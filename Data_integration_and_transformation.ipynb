{
  "nbformat": 4,
  "nbformat_minor": 0,
  "metadata": {
    "colab": {
      "provenance": [],
      "authorship_tag": "ABX9TyO4aB5ZGrbMtUqIyQpylS7j",
      "include_colab_link": true
    },
    "kernelspec": {
      "name": "python3",
      "display_name": "Python 3"
    },
    "language_info": {
      "name": "python"
    }
  },
  "cells": [
    {
      "cell_type": "markdown",
      "metadata": {
        "id": "view-in-github",
        "colab_type": "text"
      },
      "source": [
        "<a href=\"https://colab.research.google.com/github/alinapradhan/Data-integration-and-transformation/blob/main/Data_integration_and_transformation.ipynb\" target=\"_parent\"><img src=\"https://colab.research.google.com/assets/colab-badge.svg\" alt=\"Open In Colab\"/></a>"
      ]
    },
    {
      "cell_type": "code",
      "execution_count": null,
      "metadata": {
        "id": "FS-jGtSjSu2Q"
      },
      "outputs": [],
      "source": [
        "#Data intergration and transformation for data mining\n",
        "\n",
        "import pandas as pd\n",
        "import numpy as np\n",
        "\n",
        "# Sample datasets for Data Integration\n",
        "data_1 = {\n",
        "    'ID': [1, 2, 3, 4],\n",
        "    'Name': ['Alice', 'Bob', 'Charlie', 'David'],\n",
        "    'Age': [25, 30, 35, 40]\n",
        "}\n",
        "\n",
        "data_2 = {\n",
        "    'ID': [3, 4, 5, 6],\n",
        "    'Gender': ['F', 'M', 'M', 'F'],\n",
        "    'Salary': [70000, 80000, 50000, 60000]\n",
        "}\n",
        "\n",
        "df1 = pd.DataFrame(data_1)\n",
        "df2 = pd.DataFrame(data_2)"
      ]
    },
    {
      "cell_type": "code",
      "source": [
        "# Data Integration\n",
        "\n",
        "# Tight Coupling (join datasets on common key)\n",
        "tight_coupling = pd.merge(df1, df2, on='ID', how='inner')\n",
        "print(\"Tight Coupling result:\\n\", tight_coupling)\n"
      ],
      "metadata": {
        "colab": {
          "base_uri": "https://localhost:8080/"
        },
        "id": "buH4tt78S5vN",
        "outputId": "80b4c941-1c88-4646-ae0f-1f9fcb112c49"
      },
      "execution_count": null,
      "outputs": [
        {
          "output_type": "stream",
          "name": "stdout",
          "text": [
            "Tight Coupling result:\n",
            "    ID     Name  Age Gender  Salary\n",
            "0   3  Charlie   35      F   70000\n",
            "1   4    David   40      M   80000\n"
          ]
        }
      ]
    },
    {
      "cell_type": "code",
      "source": [
        "# Loose Coupling (concatenate datasets)\n",
        "loose_coupling = pd.concat([df1.set_index('ID'), df2.set_index('ID')], axis=1).reset_index()\n",
        "print(\"Loose Coupling result:\\n\", loose_coupling)"
      ],
      "metadata": {
        "colab": {
          "base_uri": "https://localhost:8080/"
        },
        "id": "x1CXZK6CTvHy",
        "outputId": "e61ebff5-eaee-486a-a339-8e618c25c03f"
      },
      "execution_count": null,
      "outputs": [
        {
          "output_type": "stream",
          "name": "stdout",
          "text": [
            "Loose Coupling result:\n",
            "    ID     Name   Age Gender   Salary\n",
            "0   1    Alice  25.0    NaN      NaN\n",
            "1   2      Bob  30.0    NaN      NaN\n",
            "2   3  Charlie  35.0      F  70000.0\n",
            "3   4    David  40.0      M  80000.0\n",
            "4   5      NaN   NaN      M  50000.0\n",
            "5   6      NaN   NaN      F  60000.0\n"
          ]
        }
      ]
    },
    {
      "cell_type": "code",
      "source": [
        "# Data Transformation\n",
        "\n",
        "# Smoothing (moving average for Age)\n",
        "loose_coupling['Smoothed_age'] = loose_coupling['Age'].rolling(window=2, min_periods=1).mean()\n",
        "print(\"\\nSmoothing:\\n\", loose_coupling[['ID', 'Age', 'Smoothed_age']])\n"
      ],
      "metadata": {
        "colab": {
          "base_uri": "https://localhost:8080/"
        },
        "id": "FhlRm3sVS5qx",
        "outputId": "cfe1c92e-2db4-4255-930b-a2ea4bd48792"
      },
      "execution_count": null,
      "outputs": [
        {
          "output_type": "stream",
          "name": "stdout",
          "text": [
            "\n",
            "Smoothing:\n",
            "    ID   Age  Smoothed_age\n",
            "0   1  25.0          25.0\n",
            "1   2  30.0          27.5\n",
            "2   3  35.0          32.5\n",
            "3   4  40.0          37.5\n",
            "4   5   NaN          40.0\n",
            "5   6   NaN           NaN\n"
          ]
        }
      ]
    },
    {
      "cell_type": "code",
      "source": [
        "# Aggregation (summarizing Salary by Gender)\n",
        "aggregation = loose_coupling.groupby('Gender')['Salary'].sum().reset_index()\n",
        "print(\"\\nAggregation:\\n\", aggregation)"
      ],
      "metadata": {
        "colab": {
          "base_uri": "https://localhost:8080/"
        },
        "id": "4Yh74EtvTyzV",
        "outputId": "621d80d3-5817-4247-d322-dcf93d3130d2"
      },
      "execution_count": null,
      "outputs": [
        {
          "output_type": "stream",
          "name": "stdout",
          "text": [
            "\n",
            "Aggregation:\n",
            "   Gender    Salary\n",
            "0      F  130000.0\n",
            "1      M  130000.0\n"
          ]
        }
      ]
    },
    {
      "cell_type": "code",
      "source": [
        "# Discretization (binning Age into categories)\n",
        "bins = [0, 20, 30, 40, 50]\n",
        "labels = ['Teen', 'Young Adult', 'Adult', 'Senior']\n",
        "loose_coupling['Age_Group'] = pd.cut(loose_coupling['Age'], bins=bins, labels=labels)\n",
        "print(\"\\nDiscretization:\\n\", loose_coupling[['ID', 'Age', 'Age_Group']])"
      ],
      "metadata": {
        "colab": {
          "base_uri": "https://localhost:8080/"
        },
        "id": "0Pamz0OES5pU",
        "outputId": "2cc0ec0b-0904-4ba3-9e70-8a29596b02e5"
      },
      "execution_count": null,
      "outputs": [
        {
          "output_type": "stream",
          "name": "stdout",
          "text": [
            "\n",
            "Discretization:\n",
            "    ID   Age    Age_Group\n",
            "0   1  25.0  Young Adult\n",
            "1   2  30.0  Young Adult\n",
            "2   3  35.0        Adult\n",
            "3   4  40.0        Adult\n",
            "4   5   NaN          NaN\n",
            "5   6   NaN          NaN\n"
          ]
        }
      ]
    },
    {
      "cell_type": "code",
      "source": [
        "# Attribute Construction (creating Age-Salary Ratio)\n",
        "loose_coupling['Age_Salary_Ratio'] = loose_coupling['Age'] / loose_coupling['Salary']\n",
        "print(\"\\nAttribute Construction:\\n\", loose_coupling[['ID', 'Age', 'Salary', 'Age_Salary_Ratio']])\n"
      ],
      "metadata": {
        "colab": {
          "base_uri": "https://localhost:8080/"
        },
        "id": "5ax8jnGbS5jM",
        "outputId": "947bbb17-dc78-48eb-dab8-2ed1e43ff704"
      },
      "execution_count": null,
      "outputs": [
        {
          "output_type": "stream",
          "name": "stdout",
          "text": [
            "\n",
            "Attribute Construction:\n",
            "    ID   Age   Salary  Age_Salary_Ratio\n",
            "0   1  25.0      NaN               NaN\n",
            "1   2  30.0      NaN               NaN\n",
            "2   3  35.0  70000.0            0.0005\n",
            "3   4  40.0  80000.0            0.0005\n",
            "4   5   NaN  50000.0               NaN\n",
            "5   6   NaN  60000.0               NaN\n"
          ]
        }
      ]
    },
    {
      "cell_type": "code",
      "source": [
        "# Generalization - Min-Max Normalization\n",
        "loose_coupling['Age_MinMax'] = (\n",
        "    (loose_coupling['Age'] - loose_coupling['Age'].min()) /\n",
        "    (loose_coupling['Age'].max() - loose_coupling['Age'].min())\n",
        ")\n",
        "print(\"\\nMin-Max Normalization:\\n\", loose_coupling[['ID', 'Age', 'Age_MinMax']])\n"
      ],
      "metadata": {
        "colab": {
          "base_uri": "https://localhost:8080/"
        },
        "id": "ZILIKlyES5Yp",
        "outputId": "5d135dca-758a-4d30-eae9-618e2453e616"
      },
      "execution_count": null,
      "outputs": [
        {
          "output_type": "stream",
          "name": "stdout",
          "text": [
            "\n",
            "Min-Max Normalization:\n",
            "    ID   Age  Age_MinMax\n",
            "0   1  25.0    0.000000\n",
            "1   2  30.0    0.333333\n",
            "2   3  35.0    0.666667\n",
            "3   4  40.0    1.000000\n",
            "4   5   NaN         NaN\n",
            "5   6   NaN         NaN\n"
          ]
        }
      ]
    },
    {
      "cell_type": "code",
      "source": [
        "\n",
        "\n",
        "# Z-score Normalization\n",
        "loose_coupling['Age_Zscore'] = (\n",
        "    (loose_coupling['Age'] - loose_coupling['Age'].mean()) /\n",
        "    loose_coupling['Age'].std()\n",
        ")\n",
        "print(\"\\nZ-score Normalization:\\n\", loose_coupling[['ID', 'Age', 'Age_Zscore']])\n"
      ],
      "metadata": {
        "colab": {
          "base_uri": "https://localhost:8080/"
        },
        "id": "Eolzl9zrS5MR",
        "outputId": "6316a5cb-c12b-4939-b4fb-6b94f013649d"
      },
      "execution_count": null,
      "outputs": [
        {
          "output_type": "stream",
          "name": "stdout",
          "text": [
            "\n",
            "Z-score Normalization:\n",
            "    ID   Age  Age_Zscore\n",
            "0   1  25.0   -1.161895\n",
            "1   2  30.0   -0.387298\n",
            "2   3  35.0    0.387298\n",
            "3   4  40.0    1.161895\n",
            "4   5   NaN         NaN\n",
            "5   6   NaN         NaN\n"
          ]
        }
      ]
    },
    {
      "cell_type": "code",
      "source": [
        "# Decimal Scaling\n",
        "scaling_factor = 10 ** np.ceil(np.log10(loose_coupling['Age'].abs().max()))\n",
        "loose_coupling['Age_Decimal_Scaling'] = loose_coupling['Age'] / scaling_factor\n",
        "print(\"\\nDecimal Scaling:\\n\", loose_coupling[['ID', 'Age', 'Age_Decimal_Scaling']])\n"
      ],
      "metadata": {
        "colab": {
          "base_uri": "https://localhost:8080/"
        },
        "id": "aQBz_6g9TpTO",
        "outputId": "1bc282ee-da60-405f-821b-07ff53e8642a"
      },
      "execution_count": null,
      "outputs": [
        {
          "output_type": "stream",
          "name": "stdout",
          "text": [
            "\n",
            "Decimal Scaling:\n",
            "    ID   Age  Age_Decimal_Scaling\n",
            "0   1  25.0                 0.25\n",
            "1   2  30.0                 0.30\n",
            "2   3  35.0                 0.35\n",
            "3   4  40.0                 0.40\n",
            "4   5   NaN                  NaN\n",
            "5   6   NaN                  NaN\n"
          ]
        }
      ]
    },
    {
      "cell_type": "code",
      "source": [],
      "metadata": {
        "id": "Shbv_CxTT7lh"
      },
      "execution_count": null,
      "outputs": []
    }
  ]
}